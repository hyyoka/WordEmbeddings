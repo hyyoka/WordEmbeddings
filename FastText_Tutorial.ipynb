{
  "nbformat": 4,
  "nbformat_minor": 0,
  "metadata": {
    "colab": {
      "name": "FastText Tutorial.ipynb",
      "provenance": [],
      "collapsed_sections": []
    },
    "kernelspec": {
      "name": "python3",
      "display_name": "Python 3"
    },
    "accelerator": "GPU"
  },
  "cells": [
    {
      "cell_type": "markdown",
      "metadata": {
        "id": "Qlu964ThASRC"
      },
      "source": [
        "@hyyoka"
      ]
    },
    {
      "cell_type": "code",
      "metadata": {
        "id": "iJE1GCXuhEkV"
      },
      "source": [
        "from gensim.models import FastText\n",
        "import gensim"
      ],
      "execution_count": null,
      "outputs": []
    },
    {
      "cell_type": "code",
      "metadata": {
        "id": "DS1kelI9hWss"
      },
      "source": [
        "path = '/content/wiki_small800.txt'"
      ],
      "execution_count": null,
      "outputs": []
    },
    {
      "cell_type": "code",
      "metadata": {
        "id": "yy0JJHIxhwmM",
        "colab": {
          "base_uri": "https://localhost:8080/",
          "height": 87
        },
        "outputId": "26261724-f500-43c6-fff7-3b23bfe76895"
      },
      "source": [
        "model = FastText(size=100)\n",
        "\n",
        "# build the vocabulary\n",
        "model.build_vocab(corpus_file=path)\n",
        "\n",
        "# train the model\n",
        "model.train(\n",
        "    corpus_file=path, epochs=model.epochs,\n",
        "    total_examples=model.corpus_count, total_words=model.corpus_total_words\n",
        ")\n",
        "\n",
        "print(model)\n",
        "model.save('ft_model')"
      ],
      "execution_count": null,
      "outputs": [
        {
          "output_type": "stream",
          "text": [
            "/usr/local/lib/python3.6/dist-packages/smart_open/smart_open_lib.py:402: UserWarning: This function is deprecated, use smart_open.open instead. See the migration notes for details: https://github.com/RaRe-Technologies/smart_open/blob/master/README.rst#migrating-to-the-new-open-function\n",
            "  'See the migration notes for details: %s' % _MIGRATION_NOTES_URL\n"
          ],
          "name": "stderr"
        },
        {
          "output_type": "stream",
          "text": [
            "FastText(vocab=13355, size=100, alpha=0.025)\n"
          ],
          "name": "stdout"
        }
      ]
    },
    {
      "cell_type": "code",
      "metadata": {
        "id": "HOunknLEiDZP",
        "colab": {
          "base_uri": "https://localhost:8080/",
          "height": 70
        },
        "outputId": "1c6cca34-2d7f-45b3-dfec-22142239916a"
      },
      "source": [
        "sv_model = FastText.load('ft_model')"
      ],
      "execution_count": null,
      "outputs": [
        {
          "output_type": "stream",
          "text": [
            "/usr/local/lib/python3.6/dist-packages/smart_open/smart_open_lib.py:402: UserWarning: This function is deprecated, use smart_open.open instead. See the migration notes for details: https://github.com/RaRe-Technologies/smart_open/blob/master/README.rst#migrating-to-the-new-open-function\n",
            "  'See the migration notes for details: %s' % _MIGRATION_NOTES_URL\n"
          ],
          "name": "stderr"
        }
      ]
    },
    {
      "cell_type": "code",
      "metadata": {
        "id": "wu7qfU2kjGkw",
        "colab": {
          "base_uri": "https://localhost:8080/",
          "height": 487
        },
        "outputId": "ca0786be-b659-48fd-8fbf-09b87f008918"
      },
      "source": [
        "print(\"배우\" in sv_model.wv.vocab)\n",
        "print(sv_model['배우'])"
      ],
      "execution_count": null,
      "outputs": [
        {
          "output_type": "stream",
          "text": [
            "True\n",
            "[-6.26703739e-01 -3.00941229e+00 -7.66918480e-01  1.80602610e+00\n",
            " -9.08810377e-01 -3.29997849e+00  1.70353246e+00  1.26990914e+00\n",
            " -6.49980247e-01 -1.03586221e+00  1.90372896e+00  3.30857325e+00\n",
            "  9.28290486e-01  4.68512416e-01  9.17689919e-01 -3.65557671e-01\n",
            "  1.12478346e-01  8.36632669e-01  1.29919386e+00  2.19855189e+00\n",
            "  4.25537825e-01 -1.34181094e+00 -7.57946968e-01 -6.34869456e-01\n",
            " -1.30299568e-01 -1.01540089e+00  1.95821023e+00 -4.38360631e-01\n",
            " -3.04949212e+00 -2.15050840e+00 -1.62186909e+00 -8.87043327e-02\n",
            " -2.23403931e+00 -2.55304861e+00  5.09778440e-01  7.55360246e-01\n",
            " -8.84651244e-01 -4.74695873e+00 -2.16679239e+00  4.63353157e+00\n",
            "  1.64170527e+00  1.12094760e+00 -1.36762106e+00 -2.12350622e-01\n",
            "  1.37624550e+00 -9.85675573e-01  6.24643326e-01  1.20363212e+00\n",
            "  1.80480734e-01  8.26147914e-01 -8.64520669e-01 -4.26136404e-01\n",
            " -2.49618912e+00 -1.32281566e+00  1.34633505e+00  1.06971312e+00\n",
            "  6.28648818e-01 -7.48327076e-01  1.47349966e+00  2.63806731e-01\n",
            "  4.72078848e+00 -8.79975557e-01 -4.35849838e-03  3.64426875e+00\n",
            " -1.53433180e+00 -5.97694099e-01 -1.06310999e+00  4.25472528e-01\n",
            "  6.00251555e-01 -7.44936168e-01 -9.70117807e-01 -1.77220440e+00\n",
            " -8.83701026e-01 -4.01725233e-01  3.55975842e+00 -5.69629729e-01\n",
            "  6.65549859e-02 -2.13180470e+00 -1.51369452e+00 -1.52912331e+00\n",
            " -1.67547178e+00 -1.28771529e-01 -6.72229290e-01  9.23637271e-01\n",
            " -1.57489669e+00  1.70388150e+00  9.78986263e-01 -2.48790765e+00\n",
            " -8.66371155e-01 -1.08265972e+00  1.07613206e-01  2.20029640e+00\n",
            " -7.27588594e-01  7.47495532e-01  2.26883197e+00 -1.62783003e+00\n",
            " -1.19360292e+00  4.27857101e-01  2.88092971e+00 -2.05799794e+00]\n"
          ],
          "name": "stdout"
        },
        {
          "output_type": "stream",
          "text": [
            "/usr/local/lib/python3.6/dist-packages/ipykernel_launcher.py:2: DeprecationWarning: Call to deprecated `__getitem__` (Method will be removed in 4.0.0, use self.wv.__getitem__() instead).\n",
            "  \n"
          ],
          "name": "stderr"
        }
      ]
    },
    {
      "cell_type": "code",
      "metadata": {
        "id": "PkfD85nhjP_2",
        "colab": {
          "base_uri": "https://localhost:8080/",
          "height": 121
        },
        "outputId": "c672b980-b0ab-42e8-f6dc-5543dd6cc489"
      },
      "source": [
        "sv_model.similarity('배우', '여배우')"
      ],
      "execution_count": null,
      "outputs": [
        {
          "output_type": "stream",
          "text": [
            "/usr/local/lib/python3.6/dist-packages/ipykernel_launcher.py:1: DeprecationWarning: Call to deprecated `similarity` (Method will be removed in 4.0.0, use self.wv.similarity() instead).\n",
            "  \"\"\"Entry point for launching an IPython kernel.\n",
            "/usr/local/lib/python3.6/dist-packages/gensim/matutils.py:737: FutureWarning: Conversion of the second argument of issubdtype from `int` to `np.signedinteger` is deprecated. In future, it will be treated as `np.int64 == np.dtype(int).type`.\n",
            "  if np.issubdtype(vec.dtype, np.int):\n"
          ],
          "name": "stderr"
        },
        {
          "output_type": "execute_result",
          "data": {
            "text/plain": [
              "0.94758594"
            ]
          },
          "metadata": {
            "tags": []
          },
          "execution_count": 17
        }
      ]
    },
    {
      "cell_type": "code",
      "metadata": {
        "id": "mNN75R3PjPjz",
        "colab": {
          "base_uri": "https://localhost:8080/",
          "height": 272
        },
        "outputId": "05908859-5917-46b4-e9f2-ffada9e858b9"
      },
      "source": [
        "sv_model.most_similar(positive=[\"디자인\"], topn=10)"
      ],
      "execution_count": null,
      "outputs": [
        {
          "output_type": "stream",
          "text": [
            "/usr/local/lib/python3.6/dist-packages/ipykernel_launcher.py:1: DeprecationWarning: Call to deprecated `most_similar` (Method will be removed in 4.0.0, use self.wv.most_similar() instead).\n",
            "  \"\"\"Entry point for launching an IPython kernel.\n",
            "/usr/local/lib/python3.6/dist-packages/gensim/matutils.py:737: FutureWarning: Conversion of the second argument of issubdtype from `int` to `np.signedinteger` is deprecated. In future, it will be treated as `np.int64 == np.dtype(int).type`.\n",
            "  if np.issubdtype(vec.dtype, np.int):\n"
          ],
          "name": "stderr"
        },
        {
          "output_type": "execute_result",
          "data": {
            "text/plain": [
              "[('장르', 0.9192789196968079),\n",
              " ('애플리케이션', 0.9190952777862549),\n",
              " ('메인프레임', 0.9140157103538513),\n",
              " ('보안', 0.9061012268066406),\n",
              " ('이드', 0.9032248258590698),\n",
              " ('스타일', 0.9020099639892578),\n",
              " ('스크립트', 0.8995997309684753),\n",
              " ('블로그', 0.8989516496658325),\n",
              " ('모방', 0.8985992074012756),\n",
              " ('페이스북', 0.8979696035385132)]"
            ]
          },
          "metadata": {
            "tags": []
          },
          "execution_count": 18
        }
      ]
    },
    {
      "cell_type": "code",
      "metadata": {
        "id": "26JDyVkfLSBl"
      },
      "source": [
        ""
      ],
      "execution_count": null,
      "outputs": []
    }
  ]
}